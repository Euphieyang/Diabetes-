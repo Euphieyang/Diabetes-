{
 "cells": [
  {
   "cell_type": "markdown",
   "id": "e6e2a863",
   "metadata": {},
   "source": [
    "# Diabetes data"
   ]
  },
  {
   "cell_type": "markdown",
   "id": "05169bca",
   "metadata": {},
   "source": [
    "source: http://scikit-learn.org/stable/datasets/<br>\n",
    "\n",
    "這是一個糖尿病的資料集，內有442筆資料，10項屬性值(attribute)<br><br>\n",
    "自變項(x)︰Age、Sex、Body mass index、Average Blood Pressure、S1~S6一年後疾病級數指標<br>\n",
    "<br>依變項(y)為一年後患疾病的定量指標"
   ]
  },
  {
   "cell_type": "code",
   "execution_count": 18,
   "id": "b53553ba",
   "metadata": {},
   "outputs": [],
   "source": [
    "from sklearn import datasets, linear_model\n",
    "#load linear model metrics\n",
    "from sklearn.metrics import mean_squared_error,r2_score\n",
    "import matplotlib.pyplot as plt "
   ]
  },
  {
   "cell_type": "code",
   "execution_count": 19,
   "id": "7c429683",
   "metadata": {},
   "outputs": [],
   "source": [
    "#load the diabetes dataset\n",
    "from sklearn.datasets import load_diabetes"
   ]
  },
  {
   "cell_type": "code",
   "execution_count": 20,
   "id": "7a6616c0",
   "metadata": {},
   "outputs": [],
   "source": [
    "#將data命名diabetes\n",
    "diabetes=load_diabetes()"
   ]
  },
  {
   "cell_type": "code",
   "execution_count": 21,
   "id": "2e4bab1b",
   "metadata": {},
   "outputs": [
    {
     "data": {
      "text/plain": [
       "sklearn.utils.Bunch"
      ]
     },
     "execution_count": 21,
     "metadata": {},
     "output_type": "execute_result"
    }
   ],
   "source": [
    "type(diabetes)\n",
    "#diabetes的資料型態為bunch"
   ]
  },
  {
   "cell_type": "markdown",
   "id": "98ccd528",
   "metadata": {},
   "source": [
    "### 自變項(x)"
   ]
  },
  {
   "cell_type": "code",
   "execution_count": 22,
   "id": "2d905329",
   "metadata": {},
   "outputs": [
    {
     "name": "stdout",
     "output_type": "stream",
     "text": [
      "[[ 0.03807591  0.05068012  0.06169621 ... -0.00259226  0.01990842\n",
      "  -0.01764613]\n",
      " [-0.00188202 -0.04464164 -0.05147406 ... -0.03949338 -0.06832974\n",
      "  -0.09220405]\n",
      " [ 0.08529891  0.05068012  0.04445121 ... -0.00259226  0.00286377\n",
      "  -0.02593034]\n",
      " ...\n",
      " [ 0.04170844  0.05068012 -0.01590626 ... -0.01107952 -0.04687948\n",
      "   0.01549073]\n",
      " [-0.04547248 -0.04464164  0.03906215 ...  0.02655962  0.04452837\n",
      "  -0.02593034]\n",
      " [-0.04547248 -0.04464164 -0.0730303  ... -0.03949338 -0.00421986\n",
      "   0.00306441]]\n"
     ]
    }
   ],
   "source": [
    "#印出自變數(x): 影響糖尿病的因子\n",
    "print(diabetes.data)"
   ]
  },
  {
   "cell_type": "code",
   "execution_count": 23,
   "id": "8b17e15d",
   "metadata": {},
   "outputs": [
    {
     "name": "stdout",
     "output_type": "stream",
     "text": [
      "features: ['age', 'sex', 'bmi', 'bp', 's1', 's2', 's3', 's4', 's5', 's6']\n"
     ]
    }
   ],
   "source": [
    "print('features:',diabetes.feature_names)\n",
    "\n",
    "#了解變數項\n",
    "#共有10個自變數(X)\n",
    "#Age(年齡)、性別(Sex)、Body mass index(體質指數)、Average Blood Pressure(平均血壓)、S1~S6一年後疾病級數指標"
   ]
  },
  {
   "cell_type": "markdown",
   "id": "6efb3e7b",
   "metadata": {},
   "source": [
    "### 依變項(y)"
   ]
  },
  {
   "cell_type": "code",
   "execution_count": 24,
   "id": "32a7a275",
   "metadata": {},
   "outputs": [
    {
     "name": "stdout",
     "output_type": "stream",
     "text": [
      "y: [151.  75. 141. 206. 135.  97. 138.  63. 110. 310. 101.  69. 179. 185.\n",
      " 118. 171. 166. 144.  97. 168.  68.  49.  68. 245. 184. 202. 137.  85.\n",
      " 131. 283. 129.  59. 341.  87.  65. 102. 265. 276. 252.  90. 100.  55.\n",
      "  61.  92. 259.  53. 190. 142.  75. 142. 155. 225.  59. 104. 182. 128.\n",
      "  52.  37. 170. 170.  61. 144.  52. 128.  71. 163. 150.  97. 160. 178.\n",
      "  48. 270. 202. 111.  85.  42. 170. 200. 252. 113. 143.  51.  52. 210.\n",
      "  65. 141.  55. 134.  42. 111.  98. 164.  48.  96.  90. 162. 150. 279.\n",
      "  92.  83. 128. 102. 302. 198.  95.  53. 134. 144. 232.  81. 104.  59.\n",
      " 246. 297. 258. 229. 275. 281. 179. 200. 200. 173. 180.  84. 121. 161.\n",
      "  99. 109. 115. 268. 274. 158. 107.  83. 103. 272.  85. 280. 336. 281.\n",
      " 118. 317. 235.  60. 174. 259. 178. 128.  96. 126. 288.  88. 292.  71.\n",
      " 197. 186.  25.  84.  96. 195.  53. 217. 172. 131. 214.  59.  70. 220.\n",
      " 268. 152.  47.  74. 295. 101. 151. 127. 237. 225.  81. 151. 107.  64.\n",
      " 138. 185. 265. 101. 137. 143. 141.  79. 292. 178.  91. 116.  86. 122.\n",
      "  72. 129. 142.  90. 158.  39. 196. 222. 277.  99. 196. 202. 155.  77.\n",
      " 191.  70.  73.  49.  65. 263. 248. 296. 214. 185.  78.  93. 252. 150.\n",
      "  77. 208.  77. 108. 160.  53. 220. 154. 259.  90. 246. 124.  67.  72.\n",
      " 257. 262. 275. 177.  71.  47. 187. 125.  78.  51. 258. 215. 303. 243.\n",
      "  91. 150. 310. 153. 346.  63.  89.  50.  39. 103. 308. 116. 145.  74.\n",
      "  45. 115. 264.  87. 202. 127. 182. 241.  66.  94. 283.  64. 102. 200.\n",
      " 265.  94. 230. 181. 156. 233.  60. 219.  80.  68. 332. 248.  84. 200.\n",
      "  55.  85.  89.  31. 129.  83. 275.  65. 198. 236. 253. 124.  44. 172.\n",
      " 114. 142. 109. 180. 144. 163. 147.  97. 220. 190. 109. 191. 122. 230.\n",
      " 242. 248. 249. 192. 131. 237.  78. 135. 244. 199. 270. 164.  72.  96.\n",
      " 306.  91. 214.  95. 216. 263. 178. 113. 200. 139. 139.  88. 148.  88.\n",
      " 243.  71.  77. 109. 272.  60.  54. 221.  90. 311. 281. 182. 321.  58.\n",
      " 262. 206. 233. 242. 123. 167.  63. 197.  71. 168. 140. 217. 121. 235.\n",
      " 245.  40.  52. 104. 132.  88.  69. 219.  72. 201. 110.  51. 277.  63.\n",
      " 118.  69. 273. 258.  43. 198. 242. 232. 175.  93. 168. 275. 293. 281.\n",
      "  72. 140. 189. 181. 209. 136. 261. 113. 131. 174. 257.  55.  84.  42.\n",
      " 146. 212. 233.  91. 111. 152. 120.  67. 310.  94. 183.  66. 173.  72.\n",
      "  49.  64.  48. 178. 104. 132. 220.  57.]\n"
     ]
    }
   ],
   "source": [
    "#了解y\n",
    "#為一年後患疾病的定量指標\n",
    "print('y:',diabetes.target)"
   ]
  },
  {
   "cell_type": "code",
   "execution_count": 25,
   "id": "6c4e4295",
   "metadata": {},
   "outputs": [
    {
     "ename": "AttributeError",
     "evalue": "target_names",
     "output_type": "error",
     "traceback": [
      "\u001b[1;31m---------------------------------------------------------------------------\u001b[0m",
      "\u001b[1;31mKeyError\u001b[0m                                  Traceback (most recent call last)",
      "\u001b[1;32m~\\anaconda3\\lib\\site-packages\\sklearn\\utils\\__init__.py\u001b[0m in \u001b[0;36m__getattr__\u001b[1;34m(self, key)\u001b[0m\n\u001b[0;32m    116\u001b[0m         \u001b[1;32mtry\u001b[0m\u001b[1;33m:\u001b[0m\u001b[1;33m\u001b[0m\u001b[1;33m\u001b[0m\u001b[0m\n\u001b[1;32m--> 117\u001b[1;33m             \u001b[1;32mreturn\u001b[0m \u001b[0mself\u001b[0m\u001b[1;33m[\u001b[0m\u001b[0mkey\u001b[0m\u001b[1;33m]\u001b[0m\u001b[1;33m\u001b[0m\u001b[1;33m\u001b[0m\u001b[0m\n\u001b[0m\u001b[0;32m    118\u001b[0m         \u001b[1;32mexcept\u001b[0m \u001b[0mKeyError\u001b[0m\u001b[1;33m:\u001b[0m\u001b[1;33m\u001b[0m\u001b[1;33m\u001b[0m\u001b[0m\n",
      "\u001b[1;31mKeyError\u001b[0m: 'target_names'",
      "\nDuring handling of the above exception, another exception occurred:\n",
      "\u001b[1;31mAttributeError\u001b[0m                            Traceback (most recent call last)",
      "\u001b[1;32m~\\AppData\\Local\\Temp/ipykernel_2520/821614509.py\u001b[0m in \u001b[0;36m<module>\u001b[1;34m\u001b[0m\n\u001b[0;32m      1\u001b[0m \u001b[1;31m#依變項(y)名稱: 無\u001b[0m\u001b[1;33m\u001b[0m\u001b[1;33m\u001b[0m\u001b[0m\n\u001b[1;32m----> 2\u001b[1;33m \u001b[0mprint\u001b[0m\u001b[1;33m(\u001b[0m\u001b[0mdiabetes\u001b[0m\u001b[1;33m.\u001b[0m\u001b[0mtarget_names\u001b[0m\u001b[1;33m)\u001b[0m\u001b[1;33m\u001b[0m\u001b[1;33m\u001b[0m\u001b[0m\n\u001b[0m",
      "\u001b[1;32m~\\anaconda3\\lib\\site-packages\\sklearn\\utils\\__init__.py\u001b[0m in \u001b[0;36m__getattr__\u001b[1;34m(self, key)\u001b[0m\n\u001b[0;32m    117\u001b[0m             \u001b[1;32mreturn\u001b[0m \u001b[0mself\u001b[0m\u001b[1;33m[\u001b[0m\u001b[0mkey\u001b[0m\u001b[1;33m]\u001b[0m\u001b[1;33m\u001b[0m\u001b[1;33m\u001b[0m\u001b[0m\n\u001b[0;32m    118\u001b[0m         \u001b[1;32mexcept\u001b[0m \u001b[0mKeyError\u001b[0m\u001b[1;33m:\u001b[0m\u001b[1;33m\u001b[0m\u001b[1;33m\u001b[0m\u001b[0m\n\u001b[1;32m--> 119\u001b[1;33m             \u001b[1;32mraise\u001b[0m \u001b[0mAttributeError\u001b[0m\u001b[1;33m(\u001b[0m\u001b[0mkey\u001b[0m\u001b[1;33m)\u001b[0m\u001b[1;33m\u001b[0m\u001b[1;33m\u001b[0m\u001b[0m\n\u001b[0m\u001b[0;32m    120\u001b[0m \u001b[1;33m\u001b[0m\u001b[0m\n\u001b[0;32m    121\u001b[0m     \u001b[1;32mdef\u001b[0m \u001b[0m__setstate__\u001b[0m\u001b[1;33m(\u001b[0m\u001b[0mself\u001b[0m\u001b[1;33m,\u001b[0m \u001b[0mstate\u001b[0m\u001b[1;33m)\u001b[0m\u001b[1;33m:\u001b[0m\u001b[1;33m\u001b[0m\u001b[1;33m\u001b[0m\u001b[0m\n",
      "\u001b[1;31mAttributeError\u001b[0m: target_names"
     ]
    }
   ],
   "source": [
    "#依變項(y)名稱: 無\n",
    "print(diabetes.target_names)"
   ]
  },
  {
   "cell_type": "markdown",
   "id": "16add25a",
   "metadata": {},
   "source": [
    "### 確認x和y資料"
   ]
  },
  {
   "cell_type": "code",
   "execution_count": 26,
   "id": "0d7c3e77",
   "metadata": {},
   "outputs": [
    {
     "name": "stdout",
     "output_type": "stream",
     "text": [
      "<class 'numpy.ndarray'>\n",
      "<class 'numpy.ndarray'>\n",
      "2\n",
      "1\n"
     ]
    }
   ],
   "source": [
    "print(type(diabetes.data))\n",
    "print(type(diabetes.target))\n",
    "\n",
    "print(diabetes.data.ndim)\n",
    "print(diabetes.target.ndim)\n",
    "\n",
    "#了解x和y的資料型態: x->2darray, y->1dnarray"
   ]
  },
  {
   "cell_type": "code",
   "execution_count": 27,
   "id": "6029813e",
   "metadata": {},
   "outputs": [
    {
     "name": "stdout",
     "output_type": "stream",
     "text": [
      "(442, 10)\n",
      "(442,)\n"
     ]
    }
   ],
   "source": [
    "print(diabetes.data.shape)\n",
    "print(diabetes.target.shape)\n",
    "\n",
    "#了解X和y資料大小: 分別皆為442筆，且有10個自變項(x)"
   ]
  },
  {
   "cell_type": "markdown",
   "id": "a89a0c5e",
   "metadata": {},
   "source": [
    "### 線性迴規模型"
   ]
  },
  {
   "cell_type": "markdown",
   "id": "e3b1c53b",
   "metadata": {},
   "source": [
    "#### 1. import package"
   ]
  },
  {
   "cell_type": "code",
   "execution_count": 28,
   "id": "1701b0dc",
   "metadata": {},
   "outputs": [],
   "source": [
    "import numpy as np\n",
    "from sklearn import metrics\n",
    "from sklearn.linear_model import LinearRegression"
   ]
  },
  {
   "cell_type": "code",
   "execution_count": 29,
   "id": "106b6d60",
   "metadata": {},
   "outputs": [
    {
     "name": "stdout",
     "output_type": "stream",
     "text": [
      "(442, 10)\n",
      "(442,)\n"
     ]
    }
   ],
   "source": [
    "#定義、儲存X,y\n",
    "\n",
    "X=diabetes.data\n",
    "y=diabetes.target\n",
    "\n",
    "#確認大小\n",
    "print(X.shape)\n",
    "print(y.shape)"
   ]
  },
  {
   "cell_type": "markdown",
   "id": "ebe597aa",
   "metadata": {},
   "source": [
    "#### 2. 設立訓練集與測試集"
   ]
  },
  {
   "cell_type": "code",
   "execution_count": 61,
   "id": "70a4827c",
   "metadata": {},
   "outputs": [],
   "source": [
    "#以7:3的比例下去分\n",
    "#設立每次所抓取的資料為固定同一群\n",
    "from sklearn.model_selection import train_test_split\n",
    "X_train,X_test,y_train,y_test=train_test_split(X,y,test_size=0.2,random_state=0)"
   ]
  },
  {
   "cell_type": "code",
   "execution_count": 62,
   "id": "6e70b580",
   "metadata": {},
   "outputs": [
    {
     "name": "stdout",
     "output_type": "stream",
     "text": [
      "(353, 10)\n",
      "(89, 10)\n"
     ]
    }
   ],
   "source": [
    "#檢查x訓練集和測試集的資料array\n",
    "print(X_train.shape)\n",
    "print(X_test.shape)"
   ]
  },
  {
   "cell_type": "markdown",
   "id": "7cf91b93",
   "metadata": {},
   "source": [
    "#### 3.設立模型 "
   ]
  },
  {
   "cell_type": "code",
   "execution_count": 63,
   "id": "398591f2",
   "metadata": {},
   "outputs": [],
   "source": [
    "#將迴歸模型命名為lin\n",
    "lin=LinearRegression()"
   ]
  },
  {
   "cell_type": "code",
   "execution_count": 64,
   "id": "da51ca49",
   "metadata": {},
   "outputs": [
    {
     "data": {
      "text/plain": [
       "LinearRegression()"
      ]
     },
     "execution_count": 64,
     "metadata": {},
     "output_type": "execute_result"
    }
   ],
   "source": [
    "#訓練集資料學習pattern\n",
    "lin.fit(X_train,y_train)"
   ]
  },
  {
   "cell_type": "code",
   "execution_count": 65,
   "id": "de9f48c8",
   "metadata": {},
   "outputs": [
    {
     "name": "stdout",
     "output_type": "stream",
     "text": [
      "[238.47145247 248.93170646 164.05404165 120.30794355 187.42422054\n",
      " 259.04865002 113.55556372 188.07597044 149.49663441 236.01099949\n",
      " 172.24629506 178.88073764 109.15751983  92.13508975 243.33042043\n",
      "  87.356971   155.72606406  66.99073989 100.42610442 218.09422877\n",
      " 196.66287912 161.29832968 161.70779605 156.52520454 197.88796516\n",
      " 167.57984206 120.74478913  84.83879727 192.03728687 160.60687024\n",
      " 175.17178362  84.22833237 145.7995542  145.97333493 140.96488953\n",
      " 197.00421108 165.94322494 190.65906468 128.22520508 206.41941223\n",
      "  84.35851196 164.0256504  144.1056776  184.68355549 177.80238966\n",
      "  74.32855231 143.3660286  138.67726085 120.81146113 234.34252077\n",
      " 161.94390244  74.5455476  154.71905074 156.78884927 237.42227096\n",
      " 174.23053048 190.88212635 118.98373473 132.20418974 168.52674824\n",
      " 214.74245466 171.42364091 157.37409906 108.86927343 257.06329636\n",
      " 152.17777143  82.43686464 231.56746032 202.90641336  47.18340199\n",
      "  78.46954525 129.30170908 104.60253144 144.65200281 132.27974254\n",
      " 190.04134164  97.55541138 197.51891007 219.13709291 186.13797012\n",
      " 149.60913007 208.42379455  44.59036026 206.20925368  76.77377721\n",
      "  94.94046865 145.2955051  194.03776373 132.78534336]\n"
     ]
    }
   ],
   "source": [
    "#將測試集資料套用在剛剛所建立好的模型之中\n",
    "#並將模型結果儲存在y_pred之中\n",
    "y_pred=lin.predict(X_test)\n",
    "print(y_pred)"
   ]
  },
  {
   "cell_type": "code",
   "execution_count": 67,
   "id": "97b4b07f",
   "metadata": {},
   "outputs": [
    {
     "name": "stdout",
     "output_type": "stream",
     "text": [
      "RMSE: 58.51766133582009\n",
      "r2_score: 0.5763870511129232\n"
     ]
    }
   ],
   "source": [
    "#測試集所對應的觀測值v.s套用模型得出的結果\n",
    "#計算出兩者極小誤差\n",
    "#平均方根誤差(RMSE)、R-square估計預測準確值\n",
    "\n",
    "print('RMSE:',np.sqrt(metrics.mean_squared_error(y_test,y_pred)))\n",
    "print('r2_score:',np.sqrt(metrics.r2_score(y_test,y_pred)))"
   ]
  },
  {
   "cell_type": "code",
   "execution_count": 75,
   "id": "49988bee",
   "metadata": {},
   "outputs": [
    {
     "name": "stdout",
     "output_type": "stream",
     "text": [
      "intercept: 152.5381335195406\n"
     ]
    }
   ],
   "source": [
    "#迴歸模型\n",
    "#y()=B0+B1*X1('age')+B2*X2('sex')+B3*X3('bmi')+B4*X4('bp')+B5*X5('s1')+B6*X6('s2')+B7*X7('s3')+B8*X8('s4')+B9*X9('s5')+B10*X10('s6')+error\n",
    "\n",
    "print('intercept:',lin.intercept_)"
   ]
  },
  {
   "cell_type": "code",
   "execution_count": null,
   "id": "2bcbd823",
   "metadata": {},
   "outputs": [],
   "source": []
  },
  {
   "cell_type": "code",
   "execution_count": null,
   "id": "344cd200",
   "metadata": {},
   "outputs": [],
   "source": []
  }
 ],
 "metadata": {
  "kernelspec": {
   "display_name": "Python 3 (ipykernel)",
   "language": "python",
   "name": "python3"
  },
  "language_info": {
   "codemirror_mode": {
    "name": "ipython",
    "version": 3
   },
   "file_extension": ".py",
   "mimetype": "text/x-python",
   "name": "python",
   "nbconvert_exporter": "python",
   "pygments_lexer": "ipython3",
   "version": "3.9.7"
  }
 },
 "nbformat": 4,
 "nbformat_minor": 5
}
